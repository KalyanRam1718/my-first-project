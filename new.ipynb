{
 "cells": [
  {
   "cell_type": "code",
   "execution_count": 2,
   "id": "12bc55ce-9e0b-49ae-8a5c-999237c57026",
   "metadata": {},
   "outputs": [],
   "source": [
    "import numpy as np\n",
    "import pandas as pd\n",
    "import matplotlib as mlt\n",
    "import seaborn as sns"
   ]
  },
  {
   "cell_type": "code",
   "execution_count": 3,
   "id": "1cf106e3-a689-451f-a632-52586cebdf65",
   "metadata": {},
   "outputs": [],
   "source": [
    "d = pd.read_csv(r\"D:\\demo practice\\deliveries.csv\")\n",
    "m = pd.read_csv(r\"D:\\demo practice\\matches.csv\")"
   ]
  },
  {
   "cell_type": "code",
   "execution_count": 6,
   "id": "328ddd71-21cf-457a-bf20-a5d5176a61aa",
   "metadata": {},
   "outputs": [
    {
     "data": {
      "text/plain": [
       "batsman\n",
       "CH Gayle          266\n",
       "SK Raina          174\n",
       "RG Sharma         173\n",
       "V Kohli           160\n",
       "DA Warner         160\n",
       "AB de Villiers    158\n",
       "MS Dhoni          156\n",
       "YK Pathan         149\n",
       "KA Pollard        148\n",
       "Yuvraj Singh      141\n",
       "Name: batsman_runs, dtype: int64"
      ]
     },
     "execution_count": 6,
     "metadata": {},
     "output_type": "execute_result"
    }
   ],
   "source": [
    "# highest sixes\n",
    "six = d[d['batsman_runs'] == 6]\n",
    "six.groupby('batsman')['batsman_runs'].count().sort_values(ascending = False).head(10)"
   ]
  },
  {
   "cell_type": "code",
   "execution_count": 21,
   "id": "4f3ed3e2-d363-4f58-8c82-8f3ad8f84504",
   "metadata": {},
   "outputs": [
    {
     "data": {
      "text/plain": [
       "batsman\n",
       "AB de Villiers     145.129059\n",
       "YK Pathan          140.751445\n",
       "KA Pollard         140.621266\n",
       "DA Warner          138.318401\n",
       "DA Miller          137.709251\n",
       "JA Morkel          136.938202\n",
       "Harbhajan Singh    135.194585\n",
       "SK Raina           134.995548\n",
       "MS Dhoni           132.835821\n",
       "KM Jadhav          130.555556\n",
       "Name: batsman_runs, dtype: float64"
      ]
     },
     "execution_count": 21,
     "metadata": {},
     "output_type": "execute_result"
    }
   ],
   "source": [
    "#strikerate in death overs\n",
    "do = d[d['over'] > 15]\n",
    "h = do.groupby('batsman')['batsman_runs'].count()\n",
    "x = h > 200\n",
    "y = h[x].index.tolist()\n",
    "final = d[d['batsman'].isin(y)]\n",
    "runs = final.groupby('batsman')['batsman_runs'].sum()\n",
    "balls = final.groupby('batsman')['batsman_runs'].count()\n",
    "sr = (runs/balls) *100\n",
    "sr.sort_values(ascending = False).head(10)"
   ]
  },
  {
   "cell_type": "code",
   "execution_count": 39,
   "id": "7147c5f9-2f31-42f4-a632-4de68a45bdfd",
   "metadata": {},
   "outputs": [
    {
     "data": {
      "text/html": [
       "<div>\n",
       "<style scoped>\n",
       "    .dataframe tbody tr th:only-of-type {\n",
       "        vertical-align: middle;\n",
       "    }\n",
       "\n",
       "    .dataframe tbody tr th {\n",
       "        vertical-align: top;\n",
       "    }\n",
       "\n",
       "    .dataframe thead th {\n",
       "        text-align: right;\n",
       "    }\n",
       "</style>\n",
       "<table border=\"1\" class=\"dataframe\">\n",
       "  <thead>\n",
       "    <tr style=\"text-align: right;\">\n",
       "      <th></th>\n",
       "      <th>batsman</th>\n",
       "      <th>batsman_runs</th>\n",
       "    </tr>\n",
       "    <tr>\n",
       "      <th>season</th>\n",
       "      <th></th>\n",
       "      <th></th>\n",
       "    </tr>\n",
       "  </thead>\n",
       "  <tbody>\n",
       "    <tr>\n",
       "      <th>2008</th>\n",
       "      <td>SE Marsh</td>\n",
       "      <td>616</td>\n",
       "    </tr>\n",
       "    <tr>\n",
       "      <th>2009</th>\n",
       "      <td>ML Hayden</td>\n",
       "      <td>572</td>\n",
       "    </tr>\n",
       "    <tr>\n",
       "      <th>2010</th>\n",
       "      <td>SR Tendulkar</td>\n",
       "      <td>618</td>\n",
       "    </tr>\n",
       "    <tr>\n",
       "      <th>2011</th>\n",
       "      <td>CH Gayle</td>\n",
       "      <td>608</td>\n",
       "    </tr>\n",
       "    <tr>\n",
       "      <th>2012</th>\n",
       "      <td>CH Gayle</td>\n",
       "      <td>733</td>\n",
       "    </tr>\n",
       "    <tr>\n",
       "      <th>2013</th>\n",
       "      <td>MEK Hussey</td>\n",
       "      <td>733</td>\n",
       "    </tr>\n",
       "    <tr>\n",
       "      <th>2014</th>\n",
       "      <td>RV Uthappa</td>\n",
       "      <td>660</td>\n",
       "    </tr>\n",
       "    <tr>\n",
       "      <th>2015</th>\n",
       "      <td>DA Warner</td>\n",
       "      <td>562</td>\n",
       "    </tr>\n",
       "    <tr>\n",
       "      <th>2016</th>\n",
       "      <td>V Kohli</td>\n",
       "      <td>973</td>\n",
       "    </tr>\n",
       "    <tr>\n",
       "      <th>2017</th>\n",
       "      <td>DA Warner</td>\n",
       "      <td>641</td>\n",
       "    </tr>\n",
       "  </tbody>\n",
       "</table>\n",
       "</div>"
      ],
      "text/plain": [
       "             batsman  batsman_runs\n",
       "season                            \n",
       "2008        SE Marsh           616\n",
       "2009       ML Hayden           572\n",
       "2010    SR Tendulkar           618\n",
       "2011        CH Gayle           608\n",
       "2012        CH Gayle           733\n",
       "2013      MEK Hussey           733\n",
       "2014      RV Uthappa           660\n",
       "2015       DA Warner           562\n",
       "2016         V Kohli           973\n",
       "2017       DA Warner           641"
      ]
     },
     "execution_count": 39,
     "metadata": {},
     "output_type": "execute_result"
    }
   ],
   "source": [
    "# orange cap\n",
    "merged = d.merge(m,left_on = 'match_id', right_on = 'id')\n",
    "x = merged.groupby(['season', 'batsman'])['batsman_runs'].sum().sort_values(ascending = False)\n",
    "x.reset_index().drop_duplicates(subset = 'season', keep = 'first').set_index('season').sort_values('season')"
   ]
  },
  {
   "cell_type": "code",
   "execution_count": null,
   "id": "6f1eaf6f-2ffb-40f1-83c7-11fb188f6420",
   "metadata": {},
   "outputs": [],
   "source": []
  }
 ],
 "metadata": {
  "kernelspec": {
   "display_name": "Python 3 (ipykernel)",
   "language": "python",
   "name": "python3"
  },
  "language_info": {
   "codemirror_mode": {
    "name": "ipython",
    "version": 3
   },
   "file_extension": ".py",
   "mimetype": "text/x-python",
   "name": "python",
   "nbconvert_exporter": "python",
   "pygments_lexer": "ipython3",
   "version": "3.12.7"
  }
 },
 "nbformat": 4,
 "nbformat_minor": 5
}
